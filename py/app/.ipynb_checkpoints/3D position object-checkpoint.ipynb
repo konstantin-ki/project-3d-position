{
 "cells": [
  {
   "cell_type": "code",
   "execution_count": 166,
   "id": "b2d9568b-ca82-41bd-bf3f-7167fff1c787",
   "metadata": {},
   "outputs": [],
   "source": [
    "import vpython as vp\n",
    "import random as rn\n",
    "import datetime as datetime"
   ]
  },
  {
   "cell_type": "code",
   "execution_count": 148,
   "id": "5a00efb7-3101-457e-a4f5-1342ddcf470e",
   "metadata": {},
   "outputs": [
    {
     "name": "stdout",
     "output_type": "stream",
     "text": [
      "['A', 'B', 'C']\n"
     ]
    }
   ],
   "source": [
    "# object\n",
    "Obj={'A':1, 'B':2, 'C':3,}\n",
    "# итерирование массива\n",
    "Keys=[]\n",
    "Keys=list(Obj.keys())\n",
    "print(Keys)"
   ]
  },
  {
   "cell_type": "code",
   "execution_count": 149,
   "id": "9a30435c-a1fb-41a7-b94f-eaf078105571",
   "metadata": {
    "scrolled": true,
    "tags": []
   },
   "outputs": [],
   "source": [
    "Obj={'A':1, 'B':2, 'C':3,}"
   ]
  }
 ],
 "metadata": {
  "kernelspec": {
   "display_name": "Python 3 (ipykernel)",
   "language": "python",
   "name": "python3"
  },
  "language_info": {
   "codemirror_mode": {
    "name": "ipython",
    "version": 3
   },
   "file_extension": ".py",
   "mimetype": "text/x-python",
   "name": "python",
   "nbconvert_exporter": "python",
   "pygments_lexer": "ipython3",
   "version": "3.11.4"
  }
 },
 "nbformat": 4,
 "nbformat_minor": 5
}
