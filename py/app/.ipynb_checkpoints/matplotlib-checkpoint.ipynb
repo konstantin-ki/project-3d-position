{
 "cells": [
  {
   "cell_type": "code",
   "execution_count": 7,
   "id": "a2530b08-4dc0-4433-9b25-dbd26a94d67a",
   "metadata": {
    "tags": []
   },
   "outputs": [
    {
     "ename": "NameError",
     "evalue": "name 'time' is not defined",
     "output_type": "error",
     "traceback": [
      "\u001b[1;31m---------------------------------------------------------------------------\u001b[0m",
      "\u001b[1;31mNameError\u001b[0m                                 Traceback (most recent call last)",
      "Cell \u001b[1;32mIn[7], line 7\u001b[0m\n\u001b[0;32m      4\u001b[0m \u001b[38;5;66;03m#arr_data=[]\u001b[39;00m\n\u001b[0;32m      5\u001b[0m \u001b[38;5;66;03m#arr_time=[]\u001b[39;00m\n\u001b[0;32m      6\u001b[0m arr_plot\u001b[38;5;241m=\u001b[39m[]\n\u001b[1;32m----> 7\u001b[0m time\u001b[38;5;241m=\u001b[39m\u001b[43mtime\u001b[49m\u001b[38;5;241m.\u001b[39mtime()\n\u001b[0;32m      8\u001b[0m \u001b[38;5;66;03m#Генерирум данные\u001b[39;00m\n\u001b[0;32m      9\u001b[0m \u001b[38;5;28;01mfor\u001b[39;00m i \u001b[38;5;129;01min\u001b[39;00m \u001b[38;5;28mrange\u001b[39m(\u001b[38;5;241m10\u001b[39m) :\n",
      "\u001b[1;31mNameError\u001b[0m: name 'time' is not defined"
     ]
    }
   ],
   "source": [
    "import matplotlib as mpl\n",
    "\n",
    "k=0\n",
    "#arr_data=[]\n",
    "#arr_time=[]\n",
    "arr_plot=[]\n",
    "time=time.time()\n",
    "#Генерирум данные\n",
    "for i in range(10) :\n",
    "    vp.rate(10)\n",
    "    #arr_data.append(rn.randint(0,10))\n",
    "    #arr_time.append(time.time())\n",
    "    arr_plot.append([math.floor(time.time()-time4),rn.randint(0,10)])\n",
    "\n",
    "    \n",
    "#scene4 = vp.canvas(weight=500, height=500)\n",
    "vp.graph(xmin=0, xmax=100, scroll=True)\n",
    "f1= vp.gcurve (width=4, markers=True, marker_color=vp.color.orange)\n",
    "f1.plot(arr_plot)\n",
    "arr_plot"
   ]
  }
 ],
 "metadata": {
  "kernelspec": {
   "display_name": "Python 3 (ipykernel)",
   "language": "python",
   "name": "python3"
  },
  "language_info": {
   "codemirror_mode": {
    "name": "ipython",
    "version": 3
   },
   "file_extension": ".py",
   "mimetype": "text/x-python",
   "name": "python",
   "nbconvert_exporter": "python",
   "pygments_lexer": "ipython3",
   "version": "3.11.4"
  }
 },
 "nbformat": 4,
 "nbformat_minor": 5
}
