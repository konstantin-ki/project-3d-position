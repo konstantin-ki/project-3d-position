{
 "cells": [
  {
   "cell_type": "code",
   "execution_count": 1,
   "id": "716e0b98-b27d-4e01-8d89-138fd3093639",
   "metadata": {
    "tags": []
   },
   "outputs": [
    {
     "data": {
      "text/html": [
       "<div id=\"glowscript\" class=\"glowscript\"></div>"
      ],
      "text/plain": [
       "<IPython.core.display.HTML object>"
      ]
     },
     "metadata": {},
     "output_type": "display_data"
    },
    {
     "data": {
      "application/javascript": [
       "if (typeof Jupyter !== \"undefined\") { window.__context = { glowscript_container: $(\"#glowscript\").removeAttr(\"id\")};}else{ element.textContent = ' ';}"
      ],
      "text/plain": [
       "<IPython.core.display.Javascript object>"
      ]
     },
     "metadata": {},
     "output_type": "display_data"
    }
   ],
   "source": [
    "import matplotlib as plt\n",
    "import numpy as np\n",
    "import matplotlib.pyplot as plt\n",
    "import vpython as vp\n",
    "import random\n",
    "from datetime import datetime\n",
    "import time "
   ]
  },
  {
   "cell_type": "code",
   "execution_count": 1,
   "id": "6da56b25-f1ef-4c96-a541-cc009ffb6c2c",
   "metadata": {
    "tags": []
   },
   "outputs": [],
   "source": [
    "flag_run=True"
   ]
  },
  {
   "cell_type": "code",
   "execution_count": 1,
   "id": "261e53bc-3d56-48a9-bb28-184a8627278b",
   "metadata": {
    "tags": []
   },
   "outputs": [
    {
     "ename": "NameError",
     "evalue": "name 'flag_run' is not defined",
     "output_type": "error",
     "traceback": [
      "\u001b[1;31m---------------------------------------------------------------------------\u001b[0m",
      "\u001b[1;31mNameError\u001b[0m                                 Traceback (most recent call last)",
      "Cell \u001b[1;32mIn[1], line 4\u001b[0m\n\u001b[0;32m      2\u001b[0m graph_value\u001b[38;5;241m=\u001b[39m[]\n\u001b[0;32m      3\u001b[0m graph_caption\u001b[38;5;241m=\u001b[39m[]\n\u001b[1;32m----> 4\u001b[0m \u001b[38;5;28;01mwhile\u001b[39;00m \u001b[43mflag_run\u001b[49m :\n\u001b[0;32m      5\u001b[0m     current_datetime\u001b[38;5;241m=\u001b[39mdatetime\u001b[38;5;241m.\u001b[39mnow()\n\u001b[0;32m      6\u001b[0m     graph_time\u001b[38;5;241m.\u001b[39mappend(current_datetime) \n",
      "\u001b[1;31mNameError\u001b[0m: name 'flag_run' is not defined"
     ]
    }
   ],
   "source": [
    "graph_time=[] \n",
    "graph_value=[]\n",
    "graph_caption=[]\n",
    "while flag_run :\n",
    "    current_datetime=datetime.now()\n",
    "    graph_time.append(current_datetime) \n",
    "    graph_value.append(random.randint(0,10))\n",
    "    graph_caption.append(current_datetime.strftime(\"%H:%M:%S\") + \".\" + current_datetime.strftime(\"%f\")[:3])  \n",
    "    if len(graph_time)>20 :\n",
    "        graph_time.pop(0)\n",
    "        graph_value.pop(0)\n",
    "        graph_caption.pop(0)\n",
    "    print(graph_time)\n",
    "    print(graph_value)\n",
    "    plt.plot(graph_time,graph_value)\n",
    "    plot.show()\n",
    "    plt.xticks(graph_time, graph_caption, rotation ='vertical')\n",
    "    \n",
    "    time.sleep(5)"
   ]
  }
 ],
 "metadata": {
  "kernelspec": {
   "display_name": "Python 3 (ipykernel)",
   "language": "python",
   "name": "python3"
  },
  "language_info": {
   "codemirror_mode": {
    "name": "ipython",
    "version": 3
   },
   "file_extension": ".py",
   "mimetype": "text/x-python",
   "name": "python",
   "nbconvert_exporter": "python",
   "pygments_lexer": "ipython3",
   "version": "3.11.4"
  }
 },
 "nbformat": 4,
 "nbformat_minor": 5
}
