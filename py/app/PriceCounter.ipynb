{
 "cells": [
  {
   "cell_type": "code",
   "execution_count": 2,
   "id": "93ea0282-744c-45ad-bd26-5178c9cab30a",
   "metadata": {
    "tags": []
   },
   "outputs": [
    {
     "data": {
      "application/vnd.jupyter.widget-view+json": {
       "model_id": "d546b9e867b14d8d8bbcbc9f7d613ce0",
       "version_major": 2,
       "version_minor": 0
      },
      "text/plain": [
       "interactive(children=(FloatSlider(value=0.0, description='phi', max=3.2, min=-3.2, step=0.2), Output()), _dom_…"
      ]
     },
     "metadata": {},
     "output_type": "display_data"
    }
   ],
   "source": [
    "extraCharge=0;\n",
    "taxOzon=0;\n",
    "taxB=0;\n",
    "price=0;\n",
    "profit=0;\n",
    "\n",
    "%matplotlib inline\n",
    "import numpy as np\n",
    "from scipy import *\n",
    "import math\n",
    "import matplotlib.pyplot as plt\n",
    "from ipywidgets import interact, FloatSlider\n",
    "\n",
    "## Definition of the plot_cos function, our \"callback function\".\n",
    "def plot_prof(phi):\n",
    "    ## Plot parameters\n",
    "    xmin, xmax, nx = 0.0, 10.0, 50\n",
    "    ymin, ymax     = -1.2, 1.2\n",
    "\n",
    "    ## Plot the figure\n",
    "    x = np.linspace(xmin, xmax, nx)\n",
    "    print(x)\n",
    "    #y = np.cos(x+phi)\n",
    "    y = taxB*price(taxOzon*extraCharge-1)\n",
    "    plt.figure(figsize=(8,3))\n",
    "    plt.plot(x, y, linewidth=2)\n",
    "\n",
    "    ## Set up the figure axes, etc.\n",
    "    plt.title(\"y = cos(x + phi)\")\n",
    "    plt.xlim(xmin, xmax)\n",
    "    plt.ylim(ymin, ymax)\n",
    "    plt.xlabel('x')\n",
    "    plt.ylabel('y')\n",
    "\n",
    "## Generate our user interface.\n",
    "interact(plot_prof, phi=FloatSlider(min=-3.2, max=3.2, step=0.2, value=0.0));"
   ]
  }
 ],
 "metadata": {
  "kernelspec": {
   "display_name": "Python 3 (ipykernel)",
   "language": "python",
   "name": "python3"
  },
  "language_info": {
   "codemirror_mode": {
    "name": "ipython",
    "version": 3
   },
   "file_extension": ".py",
   "mimetype": "text/x-python",
   "name": "python",
   "nbconvert_exporter": "python",
   "pygments_lexer": "ipython3",
   "version": "3.11.4"
  }
 },
 "nbformat": 4,
 "nbformat_minor": 5
}
