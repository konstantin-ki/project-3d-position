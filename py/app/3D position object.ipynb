{
 "cells": [
  {
   "cell_type": "code",
   "execution_count": 1,
   "id": "b2d9568b-ca82-41bd-bf3f-7167fff1c787",
   "metadata": {
    "tags": []
   },
   "outputs": [
    {
     "data": {
      "text/html": [
       "<div id=\"glowscript\" class=\"glowscript\"></div>"
      ],
      "text/plain": [
       "<IPython.core.display.HTML object>"
      ]
     },
     "metadata": {},
     "output_type": "display_data"
    },
    {
     "data": {
      "application/javascript": [
       "if (typeof Jupyter !== \"undefined\") { window.__context = { glowscript_container: $(\"#glowscript\").removeAttr(\"id\")};}else{ element.textContent = ' ';}"
      ],
      "text/plain": [
       "<IPython.core.display.Javascript object>"
      ]
     },
     "metadata": {},
     "output_type": "display_data"
    }
   ],
   "source": [
    "import vpython as vp\n",
    "import random as rn\n",
    "import datetime as datetime"
   ]
  },
  {
   "cell_type": "code",
   "execution_count": 4,
   "id": "9a30435c-a1fb-41a7-b94f-eaf078105571",
   "metadata": {
    "scrolled": true,
    "tags": []
   },
   "outputs": [],
   "source": [
    "Obj={'A':1, 'B':2, 'C':3,}"
   ]
  },
  {
   "cell_type": "code",
   "execution_count": 3,
   "id": "5a00efb7-3101-457e-a4f5-1342ddcf470e",
   "metadata": {},
   "outputs": [
    {
     "name": "stdout",
     "output_type": "stream",
     "text": [
      "['A', 'B', 'C']\n"
     ]
    }
   ],
   "source": [
    "# object\n",
    "Obj={'A':1, 'B':2, 'C':3,}\n",
    "# итерирование массива\n",
    "Keys=[]\n",
    "Keys=list(Obj.keys())\n",
    "print(Keys)"
   ]
  },
  {
   "cell_type": "code",
   "execution_count": 125,
   "id": "9e9a857b-1347-49bb-a9cb-1490e2f186ed",
   "metadata": {},
   "outputs": [
    {
     "data": {
      "text/html": [
       "<div id=\"glowscript\" class=\"glowscript\"></div>"
      ],
      "text/plain": [
       "<IPython.core.display.HTML object>"
      ]
     },
     "metadata": {},
     "output_type": "display_data"
    },
    {
     "data": {
      "application/javascript": [
       "if (typeof Jupyter !== \"undefined\") { window.__context = { glowscript_container: $(\"#glowscript\").removeAttr(\"id\")};}else{ element.textContent = ' ';}"
      ],
      "text/plain": [
       "<IPython.core.display.Javascript object>"
      ]
     },
     "metadata": {},
     "output_type": "display_data"
    }
   ],
   "source": [
    "import vpython as vp\n",
    "scene = vp.canvas(weight=500, height=500)\n",
    "# эта функция рисует листву для дерева\n",
    "def foliage(H,x,y,textF):\n",
    "    \n",
    "        bo=vp.box     (pos=vp.vector(x+1  ,  H+1  ,  y   ))\n",
    "        bo=vp.box     (pos=vp.vector(x-1. ,  H+1 ,  y   ))\n",
    "        bo=vp.box     (pos=vp.vector(x    ,  H+1  ,  y   )) \n",
    "        bo=vp.box     (pos=vp.vector(x    ,  H+1  ,  y+1 )) \n",
    "        bo=vp.box     (pos=vp.vector(x    ,  H+1  ,  y-1 ))             \n",
    "\n",
    "        bo=vp.box     (pos=vp.vector(x+1   ,  H+1  ,  y+1 ))\n",
    "        bo=vp.box     (pos=vp.vector(x-1   ,  H+1  ,  y+1 ))\n",
    "        bo=vp.box     (pos=vp.vector(x+1   ,  H+1  ,  y-1 ))\n",
    "        bo=vp.box     (pos=vp.vector(x-1   ,  H+1  ,  y-1 ))\n",
    "        bo=vp.box     (pos=vp.vector(x     ,  H+2  ,  y   ))\n",
    "        \n",
    "        bo=vp.box     (pos=vp.vector(x   ,  H+2  ,  y-1 ))\n",
    "        bo=vp.box     (pos=vp.vector(x   ,  H+2  ,  y+1 ))\n",
    "        bo=vp.box     (pos=vp.vector(x+1 ,  H+2  ,  y   ))\n",
    "        bo=vp.box     (pos=vp.vector(x-1 ,  H+2  ,  y   ))\n",
    "        \n",
    "#--------------------------------------------------------------------------------------------------------------------------------\n",
    "# эта функция рисует дерево заданной высоты и в заданной точке по оси x\n",
    "def tree(x,y,z,textF,H):\n",
    "    i=1\n",
    "    #определяем рисовать с текстурами или без\n",
    "    if textF :\n",
    "        while i<=H :\n",
    "            bo2=vp.box     (pos=vp.vector(x , i+z , y)   ,texture=vp.textures.wood) # рисуем ствол\n",
    "            i+=1\n",
    "        foliage(H+z,x,y,textF)\n",
    "    \n",
    "    else :\n",
    "        while i<=H :\n",
    "            bo2=vp.box     (pos=vp.vector(x , i+z , y)   ) # рисуем ствол\n",
    "            i+=1\n",
    "            \n",
    "        foliage(H+z,x,y)\n",
    "#def forest(Width)\n",
    "#----------------------------------------------------------RUN-SECTION----------------------------------------------------------#\n",
    "tree(0, 0, 0,True,3)\n",
    "tree(0, 10, 0,True,3)\n",
    "tree(10, 0, 0,True,3)\n",
    "tree(10, 10, 0,True,3)"
   ]
  },
  {
   "cell_type": "code",
   "execution_count": null,
   "id": "0e12d8a2-2fd9-4903-be20-a91a9e3d57fd",
   "metadata": {
    "tags": []
   },
   "outputs": [],
   "source": [
    "import vpython as vp\n",
    "scene = vp.canvas(weight=500, height=500)\n",
    "# эта функция рисует листву для дерева\n",
    "def foliage(H,x,y,textF):\n",
    "    \n",
    "        bo=vp.box     (pos=vp.vector(x+1  ,  H+1  ,  y   ))\n",
    "        bo=vp.box     (pos=vp.vector(x-1. ,  H+1 ,  y   ))\n",
    "        bo=vp.box     (pos=vp.vector(x    ,  H+1  ,  y   )) \n",
    "        bo=vp.box     (pos=vp.vector(x    ,  H+1  ,  y+1 )) \n",
    "        bo=vp.box     (pos=vp.vector(x    ,  H+1  ,  y-1 ))             \n",
    "\n",
    "        bo=vp.box     (pos=vp.vector(x+1   ,  H+1  ,  y+1 ))\n",
    "        bo=vp.box     (pos=vp.vector(x-1   ,  H+1  ,  y+1 ))\n",
    "        bo=vp.box     (pos=vp.vector(x+1   ,  H+1  ,  y-1 ))\n",
    "        bo=vp.box     (pos=vp.vector(x-1   ,  H+1  ,  y-1 ))\n",
    "        bo=vp.box     (pos=vp.vector(x     ,  H+2  ,  y   ))\n",
    "        \n",
    "        bo=vp.box     (pos=vp.vector(x   ,  H+2  ,  y-1 ))\n",
    "        bo=vp.box     (pos=vp.vector(x   ,  H+2  ,  y+1 ))\n",
    "        bo=vp.box     (pos=vp.vector(x+1 ,  H+2  ,  y   ))\n",
    "        bo=vp.box     (pos=vp.vector(x-1 ,  H+2  ,  y   ))\n",
    "        \n",
    "#--------------------------------------------------------------------------------------------------------------------------------\n",
    "# эта функция рисует дерево заданной высоты и в заданной точке по оси x\n",
    "def tree(x,y,z,textF,H):\n",
    "    i=1\n",
    "    #определяем рисовать с текстурами или без\n",
    "    if textF :\n",
    "        while i<=H :\n",
    "            bo2=vp.box     (pos=vp.vector(x , i+z , y)   ,texture=vp.textures.wood) # рисуем ствол\n",
    "            i+=1\n",
    "        foliage(H+z,x,y,textF)\n",
    "    \n",
    "    else :\n",
    "        while i<=H :\n",
    "            bo2=vp.box     (pos=vp.vector(x , i+z , y)   ) # рисуем ствол\n",
    "            i+=1\n",
    "            \n",
    "        foliage(H+z,x,y)\n",
    "#def forest(Width)\n",
    "#----------------------------------------------------------RUN-SECTION----------------------------------------------------------#\n",
    "tree(0, 0, 0,True,3)\n",
    "\n",
    "\n",
    "\n",
    "\n",
    "a = vp.vertex( pos= vp.vector(2,0,0) )\n",
    "b = vp.vertex( pos= vp.vector(2.0625,0,0) )\n",
    "c = vp.vertex( pos= vp.vector(2.0625,1,0) )\n",
    "d = vp.vertex( pos= vp.vector(2,1,0) )\n",
    "Q1 = vp.quad( v0=a, v1=b, v2=c, v3=d ,texture={'file':vp.textures.stones, 'bumpmap':vp.bumpmaps.stones})\n",
    "Q2 = vp.quad( v0=a, v1=b, v2=c, v3=d ,texture={'file':vp.textures.stones, 'bumpmap':vp.bumpmaps.stones})\n",
    "Liana=[Q1,Q2]\n",
    "s = vp.compound(Liana)\n",
    "def liana (X,Z,Y,RF):\n",
    "    if RF:\n",
    "        s.z=Z\n",
    "\n",
    "liana(1,7,4,True)"
   ]
  }
 ],
 "metadata": {
  "kernelspec": {
   "display_name": "Python 3 (ipykernel)",
   "language": "python",
   "name": "python3"
  },
  "language_info": {
   "codemirror_mode": {
    "name": "ipython",
    "version": 3
   },
   "file_extension": ".py",
   "mimetype": "text/x-python",
   "name": "python",
   "nbconvert_exporter": "python",
   "pygments_lexer": "ipython3",
   "version": "3.11.4"
  }
 },
 "nbformat": 4,
 "nbformat_minor": 5
}
